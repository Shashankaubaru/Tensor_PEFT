{
 "cells": [
  {
   "cell_type": "code",
   "execution_count": null,
   "id": "5dd94266-1eba-43a1-825a-04e125a9463e",
   "metadata": {},
   "outputs": [],
   "source": [
    "run main.py"
   ]
  },
  {
   "cell_type": "code",
   "execution_count": null,
   "id": "8ea6bf38-afdc-4483-874a-3e3a39b9d032",
   "metadata": {},
   "outputs": [],
   "source": [
    "model"
   ]
  },
  {
   "cell_type": "code",
   "execution_count": null,
   "id": "d5784b7a-c094-47ae-bed6-fc2c56f9a2e3",
   "metadata": {},
   "outputs": [],
   "source": [
    "W = model.model.layers[0].self_attn.k_proj.weight\n",
    "W.size()"
   ]
  },
  {
   "cell_type": "code",
   "execution_count": null,
   "id": "9c9cd7b9-8d8e-414a-b9f5-c9809c0f7099",
   "metadata": {},
   "outputs": [],
   "source": [
    "import torch\n",
    "#torch.linalg.matrix_rank(W)\n",
    "S = torch.linalg.svdvals(W)"
   ]
  },
  {
   "cell_type": "code",
   "execution_count": null,
   "id": "df12d01d-2bed-4e6f-89c3-73f3a126c176",
   "metadata": {},
   "outputs": [],
   "source": [
    "import matplotlib.pyplot as plt \n",
    "plt.plot(S.detach().numpy())"
   ]
  },
  {
   "cell_type": "code",
   "execution_count": null,
   "id": "c464a5db-98be-421a-854b-0842f9803854",
   "metadata": {},
   "outputs": [],
   "source": [
    "S = torch.zeros([5120, 40])\n",
    "for i in range(40):\n",
    "    W = model.model.layers[i].self_attn.o_proj.weight\n",
    "    S[:,i] = torch.linalg.svdvals(W)"
   ]
  },
  {
   "cell_type": "code",
   "execution_count": null,
   "id": "df3500da-76db-429e-870e-22a3e406af1d",
   "metadata": {},
   "outputs": [],
   "source": [
    "import numpy as np\n",
    "y = torch.mean(S,1).detach().numpy()\n",
    "err = torch.std(S,1).detach().numpy()\n",
    "x = np.arange(1,101)\n",
    "fig, ax = plt.subplots()\n",
    "ax.errorbar(x,y, yerr=err,fmt='k*')\n",
    "plt.xlabel('$i$ -->')\n",
    "plt.ylabel('$\\sigma_i$')\n",
    "plt.title('Mean principal angles across heads')\n",
    "plt.savefig('mean_angles.png')\n",
    "plt.show()"
   ]
  },
  {
   "cell_type": "code",
   "execution_count": null,
   "id": "084eb2b0-4a51-45ad-abf6-0d2e643a9fcf",
   "metadata": {},
   "outputs": [],
   "source": [
    "W = torch.zeros([5120,5120, 40])\n",
    "for i in range(40):\n",
    "    W[:,:,i] = model.model.layers[i].self_attn.q_proj.weight\n",
    "    \n",
    "torch.save(W, 'tensor_Q.pt')"
   ]
  },
  {
   "cell_type": "code",
   "execution_count": null,
   "id": "da73080e-cd20-4cbd-9bec-197c2f5aa8e1",
   "metadata": {},
   "outputs": [],
   "source": [
    "from tensorly.decomposition import parafac\n",
    "import tensorly as tl\n",
    "tl.set_backend('pytorch')\n",
    "\n",
    "factors = parafac(W, rank =2,init = 'svd',n_iter_max=10)"
   ]
  },
  {
   "cell_type": "code",
   "execution_count": null,
   "id": "2b00dbf3-f9b2-476e-b306-c7c7a4c5410a",
   "metadata": {},
   "outputs": [],
   "source": [
    "factors = torch.load('factor.pt')\n",
    "W1 = tl.cp_to_tensor(factors)\n",
    "err = torch.norm((W - W1), p = 'fro')\n",
    "err"
   ]
  },
  {
   "cell_type": "code",
   "execution_count": null,
   "id": "eb7bd83c-d807-46b3-824d-993bd55f9042",
   "metadata": {},
   "outputs": [],
   "source": [
    "W = torch.load('tensor_Q.pt')\n",
    "\n",
    "idx1 = torch.randperm(W.size(0))[:500]\n",
    "idx2 = torch.randperm(W.size(1))[:500]\n",
    "\n",
    "W = W[idx1,:,:]\n",
    "W = W[:,idx2,:]\n",
    "W.size()"
   ]
  },
  {
   "cell_type": "code",
   "execution_count": null,
   "id": "b89455f7-51a8-48b2-ab24-7cb799e54c0a",
   "metadata": {},
   "outputs": [],
   "source": [
    "torch.save(W, 'tensor.pt')"
   ]
  },
  {
   "cell_type": "code",
   "execution_count": null,
   "id": "10345733-a5f6-443c-8dc4-448a2e852bad",
   "metadata": {},
   "outputs": [],
   "source": [
    "run CP_test.py"
   ]
  },
  {
   "cell_type": "code",
   "execution_count": null,
   "id": "d9337271-565f-4861-bdf8-8841e336b76a",
   "metadata": {},
   "outputs": [],
   "source": [
    "nrm = torch.norm(W[:100,:100,:],p='fro')\n",
    "nrm"
   ]
  },
  {
   "cell_type": "code",
   "execution_count": null,
   "id": "3d1d171a-455d-4bc6-92ad-63ab07273f38",
   "metadata": {},
   "outputs": [],
   "source": [
    "ranks = range(2,30,2)\n",
    "for i in ranks:\n",
    "    print(i)"
   ]
  },
  {
   "cell_type": "code",
   "execution_count": null,
   "id": "60066a10-91d5-47ef-a32e-9a4bfee2e62c",
   "metadata": {},
   "outputs": [],
   "source": [
    "import matplotlib.pyplot as plt \n",
    "err = torch.load('errorsQ.pt')\n",
    "err= err.detach().numpy()\n",
    "plt.plot(range(2,400,10),err,'b*-')\n",
    "plt.xlabel('rank -->')\n",
    "plt.ylabel(r'$\\frac{||\\mathcal{W} - \\hat{\\mathcal{W}}||_F}{||\\mathcal{W}||_F}$')\n",
    "plt.title('Relative Frobenius norm error')\n",
    "plt.savefig('TSVD_error_500.png')\n",
    "plt.show()"
   ]
  },
  {
   "cell_type": "code",
   "execution_count": null,
   "id": "2b126f82-7613-4449-8923-edf21e797151",
   "metadata": {},
   "outputs": [],
   "source": [
    "err = torch.load('errors.pt')\n",
    "err"
   ]
  },
  {
   "cell_type": "code",
   "execution_count": null,
   "id": "913cbf7b-eb56-4bb1-b5ab-991b355eb67b",
   "metadata": {},
   "outputs": [],
   "source": [
    "err1 = [[695.0067],\n",
    "        [694.8560],\n",
    "        [694.6278],\n",
    "        [694.5817],\n",
    "        [694.2788],\n",
    "        [694.3420],\n",
    "        [694.0924],\n",
    "        [693.9899],\n",
    "        [693.9725],\n",
    "        [693.6519],\n",
    "        [693.5798],\n",
    "        [693.6132],\n",
    "        [693.4128],\n",
    "        [693.1976],\n",
    "        [693.1962],\n",
    "        [692.9679]]"
   ]
  },
  {
   "cell_type": "code",
   "execution_count": null,
   "id": "4f1da428-6880-4c8c-9c07-ddb05b2a9ae0",
   "metadata": {},
   "outputs": [],
   "source": [
    "from utils import *\n",
    "tl.set_backend('numpy')\n",
    "factors_np = decompose_three_way(W.detach().numpy(), rank = 2,max_iter=10)\n",
    "W1 = reconstruct(factors_np)"
   ]
  },
  {
   "cell_type": "code",
   "execution_count": null,
   "id": "3e9645fa-8411-4627-b386-3615f0f14d69",
   "metadata": {},
   "outputs": [],
   "source": [
    "run TSVD_test.py"
   ]
  },
  {
   "cell_type": "code",
   "execution_count": null,
   "id": "10b498c8-80c7-44f9-b097-12fac317a598",
   "metadata": {},
   "outputs": [],
   "source": [
    "W = torch.load('tensor.pt')\n",
    "\n",
    "idx1 = torch.randperm(W.size(0))[:500]\n",
    "idx2 = torch.randperm(W.size(1))[:500]\n",
    "\n",
    "W = W[idx1,:,:]\n",
    "W = W[:,idx2,:]\n",
    "\n",
    "print(W.size())\n",
    "\n",
    "nrm = torch.norm(W,p='fro')\n",
    "\n",
    "core, factors = tucker(W, rank = [4,4,4], n_iter_max=10, init='svd') \n",
    "W1 = tl.tucker_to_tensor((core, factors))\n",
    "err = torch.norm((W - W1), p = 'fro')/nrm\n",
    "err"
   ]
  },
  {
   "cell_type": "code",
   "execution_count": null,
   "id": "8191ed4f-74dd-4442-8ec1-40a31f2b6aa2",
   "metadata": {},
   "outputs": [],
   "source": [
    "tl.tucker_tensor"
   ]
  },
  {
   "cell_type": "code",
   "execution_count": null,
   "id": "2e856c9b-2ba3-48d5-adb0-481e9a7869ef",
   "metadata": {},
   "outputs": [],
   "source": [
    "from tensor_utils import tSVD_M, transformation_matrices\n",
    "M = transformation_matrices.dct_matrix(40) \n",
    "W1 = tSVD_M.tSVD_M_approx(W[:100,:100,:],M.type(torch.float),2)"
   ]
  },
  {
   "cell_type": "code",
   "execution_count": null,
   "id": "66148352-181b-4b72-b3af-1c6be27126a7",
   "metadata": {},
   "outputs": [],
   "source": [
    "torch.norm((W[:100,:100,:] - W1), p = 'fro')"
   ]
  },
  {
   "cell_type": "code",
   "execution_count": null,
   "id": "ffe25710-6fd2-47fe-96d7-6034572d1cbb",
   "metadata": {},
   "outputs": [],
   "source": [
    "W = torch.load('tensor_Q.pt')\n",
    "S = torch.zeros([100, 39])\n",
    "U1, S1, Vh1 = torch.linalg.svd(W[:,:,0], full_matrices=False)\n",
    "U1 = U1[:,:100]\n",
    "for i in range(1,40):\n",
    "    W2 = W[:,:,i]\n",
    "    U2, S2, Vh2 = torch.linalg.svd(W2, full_matrices=False)\n",
    "    S[:,i-1] = torch.linalg.svdvals(U1.T@U2[:,:100])"
   ]
  },
  {
   "cell_type": "code",
   "execution_count": null,
   "id": "f39d19a3-52e6-46e8-b1c6-6bb59262752c",
   "metadata": {},
   "outputs": [],
   "source": [
    "(S[:,4])"
   ]
  },
  {
   "cell_type": "code",
   "execution_count": null,
   "id": "d0766e60-d05d-468e-b9fb-a023e742e323",
   "metadata": {},
   "outputs": [],
   "source": []
  }
 ],
 "metadata": {
  "kernelspec": {
   "display_name": "Python 3",
   "language": "python",
   "name": "python3"
  },
  "language_info": {
   "codemirror_mode": {
    "name": "ipython",
    "version": 3
   },
   "file_extension": ".py",
   "mimetype": "text/x-python",
   "name": "python",
   "nbconvert_exporter": "python",
   "pygments_lexer": "ipython3",
   "version": "3.9.18"
  }
 },
 "nbformat": 4,
 "nbformat_minor": 5
}
