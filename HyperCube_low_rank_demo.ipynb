{
 "cells": [
  {
   "cell_type": "raw",
   "id": "dc245044-015c-4fae-837b-02685266a52c",
   "metadata": {},
   "source": [
    "Low-rank HyperCube decompotion demo notebook\n",
    "Ben Dongsung Huh 03/31/2024"
   ]
  },
  {
   "cell_type": "raw",
   "id": "310b8bce-b4ae-4ef5-9252-41f7fc2e9a70",
   "metadata": {},
   "source": [
    "Summary: Discover low-rank structure via training HyperCube model with weight_decay (L2-regularization) "
   ]
  },
  {
   "cell_type": "code",
   "execution_count": 2,
   "id": "d402ee4d-19de-42cf-9c9e-7b1a37fa8214",
   "metadata": {},
   "outputs": [],
   "source": [
    "import torch\n",
    "import torch.nn as nn\n",
    "import matplotlib.pyplot as plt\n",
    "from torch.nn.utils import clip_grad_norm_ as clip_grad"
   ]
  },
  {
   "cell_type": "markdown",
   "id": "502c5644-4eda-49e7-b891-0c6fc5fd0c92",
   "metadata": {},
   "source": [
    "### Model/function definitions"
   ]
  },
  {
   "cell_type": "code",
   "execution_count": null,
   "id": "7af3d0f0-4b4e-4f0a-9278-bcbe70bf2844",
   "metadata": {},
   "outputs": [],
   "source": [
    "class HyperCube(nn.Module):\n",
    "    def __init__(self,n,r):\n",
    "        super().__init__()\n",
    "        A_,B_,C_ = torch.rand(n,r,r), torch.rand(n,r,r), torch.rand(n,r,r)\n",
    "        self.factors = nn.ParameterList([A_,B_,C_])\n",
    "        \n",
    "    def HyperCube_product(self):\n",
    "        n = self.factors[0].shape[0]\n",
    "        return torch.einsum('aij,bjk,cki->abc',*self.factors)/n \n",
    "    \n",
    "    def evaluate(self,Target):\n",
    "        T = self.HyperCube_product()\n",
    "        loss = ((T-Target)**2).mean()\n",
    "        return loss\n",
    "    \n",
    "    def factor_norms(self):\n",
    "        norms = []\n",
    "        for factor in self.factors:\n",
    "            norms.append(factor.norm())\n",
    "        return torch.stack(norms).detach()"
   ]
  },
  {
   "cell_type": "code",
   "execution_count": 3,
   "id": "19291a90-86de-4b03-af78-5f7bb204fb8f",
   "metadata": {},
   "outputs": [],
   "source": [
    "class HyperCube2(nn.Module):\n",
    "    def __init__(self,n1,n2,n3,r):\n",
    "        super().__init__()\n",
    "        A_,B_,C_ = torch.rand(n1,r,r), torch.rand(n2,r,r), torch.rand(n3,r,r)\n",
    "        self.factors = nn.ParameterList([A_,B_,C_])\n",
    "        \n",
    "    def HyperCube_product(self):\n",
    "       # n = self.factors[0].shape[0]\n",
    "        return torch.einsum('aij,bjk,cki->abc',*self.factors)\n",
    "    \n",
    "    def evaluate(self,Target):\n",
    "        T = self.HyperCube_product()\n",
    "        loss = ((T-Target)**2).mean()\n",
    "        return loss\n",
    "    \n",
    "    def factor_norms(self):\n",
    "        norms = []\n",
    "        for factor in self.factors:\n",
    "            norms.append(factor.norm())\n",
    "        return torch.stack(norms).detach()"
   ]
  },
  {
   "cell_type": "code",
   "execution_count": 17,
   "id": "c393c4f1-4108-4c7b-9151-3ee1c78809fa",
   "metadata": {},
   "outputs": [],
   "source": [
    "## HyperCube SVD\n",
    "\n",
    "def HC_SVD(factor_list): \n",
    "    A,B,C = [T.detach().cpu() for T in factor_list]\n",
    "    ABC = {'A':A,'B':B,'C':C}\n",
    "\n",
    "    hc_svd = {}\n",
    "    R_prev = None\n",
    "\n",
    "    for t, T in ABC.items():\n",
    "\n",
    "        TL = T.permute(0,2,1).flatten(start_dim=0,end_dim=1)\n",
    "        lL, sigL, rL = TL.svd()\n",
    "\n",
    "        TR = T.flatten(start_dim=0,end_dim=1)\n",
    "        lR, sigR, rR = TR.svd()\n",
    "\n",
    "        if R_prev is not None:\n",
    "            overlap = R_prev.T@rL\n",
    "\n",
    "            sign = overlap.diag().sign()\n",
    "            rL = rL @ sign.diag()\n",
    "            # rR = rR @ sign.diag()\n",
    "\n",
    "            core = torch.einsum('ij, bjk, kl->bil', rL.T, T, rR)\n",
    "        else:\n",
    "            core = None\n",
    "\n",
    "        hc_svd[t] = dict(core=core, R_vec=rR, L_vec=rL, Rs = rR*sigR, Ls = rL*sigL, Rsig = sigR, Lsig = sigL) \n",
    "        R_prev = rR\n",
    "    \n",
    "    ### sign correction for A rL\n",
    "    rR, rL = hc_svd['A']['R_vec'], hc_svd['A']['L_vec']\n",
    "    sign = (R_prev.T@rL).diag().sign()\n",
    "    rL = rL * sign\n",
    "    Acore = torch.einsum('ij, bjk, kl->bil', rL.T, ABC['A'], rR)\n",
    "    hc_svd['A']['core'] = Acore; hc_svd['A']['L_vec'] = rL; hc_svd['A']['Ls'] *= sign; \n",
    "\n",
    "    return hc_svd \n"
   ]
  },
  {
   "cell_type": "code",
   "execution_count": null,
   "id": "cca4c4e0-6633-4417-a29f-707560dc7108",
   "metadata": {},
   "outputs": [],
   "source": []
  },
  {
   "cell_type": "code",
   "execution_count": 57,
   "id": "523c11a3-a8c0-4fa6-9fba-c847eca4107a",
   "metadata": {},
   "outputs": [],
   "source": [
    "def plot_tensor_slices(T, max_slices=5):\n",
    "    i_max = min(max_slices,T.shape[0])\n",
    "    fig, axs = plt.subplots(1, i_max)\n",
    "    vmax = T.abs().max()\n",
    "    for i in range(i_max):\n",
    "        ax = axs[i]\n",
    "        ax.matshow(T[i],  vmin=-vmax, vmax=vmax, cmap='seismic')\n",
    "        # ax.axis('off')\n",
    "        ax.set_xticks([])\n",
    "        ax.set_yticks([])\n",
    "        \n",
    "    fig.savefig('HC_factors.png')\n",
    "\n",
    "def plot_HC_SVD(model):\n",
    "    # A,B,C = model.factors\n",
    "    hc_svd = HC_SVD(model.factors)\n",
    "\n",
    "    # plot_tensor_slices(A.detach())  \n",
    "    plot_tensor_slices(hc_svd['A']['core'])\n",
    "    # plot_tensor_slices(B.detach())  \n",
    "    plot_tensor_slices(hc_svd['B']['core'])\n",
    "    # plot_tensor_slices(C.detach())  \n",
    "    plot_tensor_slices(hc_svd['C']['core'])"
   ]
  },
  {
   "cell_type": "code",
   "execution_count": 8,
   "id": "a7e47bda-5650-4a41-ace7-c19486e5e9f4",
   "metadata": {},
   "outputs": [],
   "source": [
    "def train(model, target, epochs = 700, wd_decay=200, lr=400, momentum=0.9, weight_decay=0.00001, grad_clip = 1e-2):\n",
    "    \n",
    "    optim = torch.optim.SGD(params=model.parameters(), lr=lr, momentum=momentum, weight_decay=weight_decay)\n",
    "\n",
    "    l_all = []\n",
    "    norm_all = []\n",
    "    for t  in range(epochs):\n",
    "        if t==(epochs-wd_decay):\n",
    "            optim.param_groups[0]['weight_decay'] /= 100\n",
    "        optim.zero_grad()\n",
    "        loss = model.evaluate(target)\n",
    "        loss.backward()\n",
    "        clip_grad(model.parameters(), grad_clip)\n",
    "        optim.step()\n",
    "        l_all.append(loss.item())\n",
    "        norm_all.append(model.factor_norms())\n",
    "       # print(\"Iter:\",t)\n",
    "    return l_all, torch.stack(norm_all)"
   ]
  },
  {
   "cell_type": "markdown",
   "id": "717bbffc-3827-43ad-b4fa-c79e9e299264",
   "metadata": {},
   "source": [
    "### Demo Experiment"
   ]
  },
  {
   "cell_type": "markdown",
   "id": "7b182c7f-115c-4ef8-a2aa-d290e1d039b2",
   "metadata": {
    "tags": []
   },
   "source": [
    "#### Target low-rank tensor (in a HyperCube sense)"
   ]
  },
  {
   "cell_type": "code",
   "execution_count": null,
   "id": "2f270e11-bd5e-4d13-bcdc-2a37c50e4486",
   "metadata": {
    "tags": []
   },
   "outputs": [],
   "source": [
    "target = HyperCube(n=17,r=3).HyperCube_product().detach()"
   ]
  },
  {
   "cell_type": "markdown",
   "id": "142c0b08-1a7a-45a7-86c0-116f8c90aa30",
   "metadata": {},
   "source": [
    "##### Training without weight_decay"
   ]
  },
  {
   "cell_type": "code",
   "execution_count": null,
   "id": "9df31f3b-c155-4610-884f-520e0694080d",
   "metadata": {},
   "outputs": [],
   "source": [
    "model_wd0 = HyperCube(n=17,r=17)\n",
    "l_all, norm_all = train(model_wd0, epochs = 200, wd_decay=0, lr=400, momentum=0.9, weight_decay=0, grad_clip = 1e-2)"
   ]
  },
  {
   "cell_type": "code",
   "execution_count": null,
   "id": "e4279fb6-cd42-4eb1-abaf-b9627656a5cd",
   "metadata": {},
   "outputs": [],
   "source": [
    "plt.semilogy(l_all)\n",
    "plt.semilogy(norm_all)\n",
    "plt.show()"
   ]
  },
  {
   "cell_type": "code",
   "execution_count": null,
   "id": "74b361d7-d5fe-4555-9dfd-8633fbc4c676",
   "metadata": {},
   "outputs": [],
   "source": []
  },
  {
   "cell_type": "code",
   "execution_count": null,
   "id": "c7f48671-c7cf-4d86-98fe-4f68f41dfd95",
   "metadata": {},
   "outputs": [],
   "source": [
    "plot_HC_SVD(model_wd0)"
   ]
  },
  {
   "cell_type": "markdown",
   "id": "60ca6426-7587-4d68-8b29-902e19397e74",
   "metadata": {},
   "source": [
    "##### Training with weight_decay"
   ]
  },
  {
   "cell_type": "code",
   "execution_count": null,
   "id": "c3512a9b-b7b4-419f-9b7a-d9f5fbf1088a",
   "metadata": {},
   "outputs": [],
   "source": [
    "model_low_rank = HyperCube(n=17,r=17)\n",
    "l_all, norm_all = train(model_low_rank, epochs = 800, wd_decay=200, lr=400, momentum=0.9, weight_decay=0.00001, grad_clip = 1e-2)"
   ]
  },
  {
   "cell_type": "code",
   "execution_count": null,
   "id": "e1b061dd-be1f-4b42-83be-5c51ce221816",
   "metadata": {},
   "outputs": [],
   "source": [
    "plt.semilogy(l_all)\n",
    "plt.semilogy(norm_all)\n",
    "plt.show()"
   ]
  },
  {
   "cell_type": "code",
   "execution_count": null,
   "id": "972ee2bf-1be2-441f-9d55-8fe0c8976a3b",
   "metadata": {},
   "outputs": [],
   "source": [
    "plot_HC_SVD(model_low_rank)"
   ]
  },
  {
   "cell_type": "code",
   "execution_count": 61,
   "id": "98decd74-471b-4cfb-b137-963b4ff90a86",
   "metadata": {},
   "outputs": [],
   "source": [
    "W = torch.load('tensor_Q.pt').detach()\n",
    "idx1 = torch.randperm(W.size(0))[:300]\n",
    "idx2 = torch.randperm(W.size(1))[:300]\n",
    "\n",
    "W = W[idx1,:,:]\n",
    "W = W[:,idx2,:]"
   ]
  },
  {
   "cell_type": "code",
   "execution_count": 77,
   "id": "1d19eb73-f547-4ff7-abd7-34065cea9851",
   "metadata": {},
   "outputs": [],
   "source": [
    "#W1 = W.clone().detach()\n",
    "n1, n2, n3 = W.size()\n",
    "model_tlora = HyperCube2(n1=n1, n2=n2, n3=n3, r =20)\n",
    "l_all, norm_all = train(model_tlora, target = W, epochs = 200, wd_decay=0, lr=10, momentum=0.9, weight_decay=0.00, grad_clip = 1e-2)"
   ]
  },
  {
   "cell_type": "code",
   "execution_count": null,
   "id": "12b54abf-cb0b-4574-b05d-17f09568780e",
   "metadata": {},
   "outputs": [],
   "source": [
    "target = HyperCube2(n1=10, n2 = 10, n3 = 20,r=3).HyperCube_product().detach()"
   ]
  },
  {
   "cell_type": "code",
   "execution_count": null,
   "id": "7b414fec-92a5-4e65-a8de-c9a556f626d2",
   "metadata": {},
   "outputs": [],
   "source": [
    "n1, n2, n3 = target.size()\n",
    "model_tlora = HyperCube2(n1=n1, n2=n2, n3=n3, r =10)\n",
    "l_all, norm_all = train(model_tlora, target, epochs = 200, wd_decay=0, lr=0.1, momentum=0.9, weight_decay=0, grad_clip = 1e-2)"
   ]
  },
  {
   "cell_type": "code",
   "execution_count": 78,
   "id": "8f96d3ed-0d69-4a54-9d77-a916c260ee0c",
   "metadata": {},
   "outputs": [
    {
     "data": {
      "image/png": "[encoded data removed]",
      "text/plain": [
       "<Figure size 432x288 with 1 Axes>"
      ]
     },
     "metadata": {
      "needs_background": "light"
     },
     "output_type": "display_data"
    }
   ],
   "source": [
    "plt.semilogy(l_all)\n",
    "plt.semilogy(norm_all)\n",
    "plt.savefig('error-vs-iter3.png')\n",
    "plt.show()"
   ]
  },
  {
   "cell_type": "markdown",
   "id": "80863ae1-e33e-484b-ab63-0e6c19a0b4c6",
   "metadata": {
    "jp-MarkdownHeadingCollapsed": true,
    "tags": []
   },
   "source": [
    "plot_HC_SVD(model_tlora)"
   ]
  },
  {
   "cell_type": "code",
   "execution_count": 79,
   "id": "e8b538f6-bff2-4ff9-b163-6f96ea437db6",
   "metadata": {},
   "outputs": [
    {
     "data": {
      "image/png": "[encoded data removed]",
      "text/plain": [
       "<Figure size 432x288 with 5 Axes>"
      ]
     },
     "metadata": {},
     "output_type": "display_data"
    },
    {
     "data": {
      "image/png": "[encoded data removed]",
      "text/plain": [
       "<Figure size 432x288 with 5 Axes>"
      ]
     },
     "metadata": {},
     "output_type": "display_data"
    },
    {
     "data": {
      "image/png": "[encoded data removed]",
      "text/plain": [
       "<Figure size 432x288 with 5 Axes>"
      ]
     },
     "metadata": {},
     "output_type": "display_data"
    }
   ],
   "source": [
    "plot_HC_SVD(model_tlora)"
   ]
  },
  {
   "cell_type": "code",
   "execution_count": null,
   "id": "fdb871ce-7e69-4ff9-be57-35bcf7312e2b",
   "metadata": {},
   "outputs": [],
   "source": []
  }
 ],
 "metadata": {
  "kernelspec": {
   "display_name": "Python 3",
   "language": "python",
   "name": "python3"
  },
  "language_info": {
   "codemirror_mode": {
    "name": "ipython",
    "version": 3
   },
   "file_extension": ".py",
   "mimetype": "text/x-python",
   "name": "python",
   "nbconvert_exporter": "python",
   "pygments_lexer": "ipython3",
   "version": "3.9.18"
  }
 },
 "nbformat": 4,
 "nbformat_minor": 5
}
